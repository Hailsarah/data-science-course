{
  "nbformat": 4,
  "nbformat_minor": 0,
  "metadata": {
    "colab": {
      "provenance": []
    },
    "kernelspec": {
      "name": "python3",
      "display_name": "Python 3"
    },
    "language_info": {
      "name": "python"
    }
  },
  "cells": [
    {
      "cell_type": "markdown",
      "metadata": {
        "id": "8ZDAAhqTLWlV"
      },
      "source": [
        "# Soal 1"
      ]
    },
    {
      "cell_type": "markdown",
      "metadata": {
        "id": "YwS1_ScrKEcc"
      },
      "source": [
        "Tentukan dari variabel \n",
        "\n",
        "list_plat_mobil = ['B 1234 AB', 'B 6721 TY', 'B 1233 AY', 'B 6629 DD', 'B 1111 AM', 'B 6726 D', 'D 11223 KJ', 'AE 44677 GH', 'AE 67269 AA']\n",
        "\n",
        "Ada berapa jumlah plat genap dan ganjil. "
      ]
    },
    {
      "cell_type": "code",
      "metadata": {
        "id": "aFK_DB0OKDFy"
      },
      "source": [
        "list_plat_mobil = ['B 1234 AB', 'B 6721 TY', 'B 1233 AY', 'B 6629 DD', 'B 1111 AM', 'B 6726 D', 'D 11223 KJ', 'AE 44677 GH', 'AE 67269 AA']"
      ],
      "execution_count": null,
      "outputs": []
    },
    {
      "cell_type": "code",
      "source": [],
      "metadata": {
        "id": "CrBoKLT6Um0u"
      },
      "execution_count": null,
      "outputs": []
    },
    {
      "cell_type": "code",
      "metadata": {
        "colab": {
          "base_uri": "https://localhost:8080/"
        },
        "id": "Bqq42ii_J_6z",
        "outputId": "88905715-1498-423c-fa73-a7f5e4c0f697"
      },
      "source": [
        "#buat prototype #1\n",
        "plat = 'B 1234 AB'\n",
        "nomor = plat.split() #split membuat setiap item menjadi suatu list\n",
        "nomor"
      ],
      "execution_count": null,
      "outputs": [
        {
          "output_type": "execute_result",
          "data": {
            "text/plain": [
              "['B', '1234', 'AB']"
            ]
          },
          "metadata": {
            "tags": []
          },
          "execution_count": 3
        }
      ]
    },
    {
      "cell_type": "code",
      "metadata": {
        "colab": {
          "base_uri": "https://localhost:8080/"
        },
        "id": "QtlTblTAK-_8",
        "outputId": "15f3dc2f-ac72-4466-d327-d87ff3ba2708"
      },
      "source": [
        "#buat prototype #1\n",
        "plat = 'B 1234 AB'\n",
        "nomor = plat.split()[1] #split membuat setiap item menjadi suatu list dengan nomor menjadi index 1\n",
        "nomor = int(nomor)\n",
        "nomorb"
      ],
      "execution_count": null,
      "outputs": [
        {
          "output_type": "execute_result",
          "data": {
            "text/plain": [
              "1234"
            ]
          },
          "metadata": {
            "tags": []
          },
          "execution_count": 4
        }
      ]
    },
    {
      "cell_type": "code",
      "metadata": {
        "colab": {
          "base_uri": "https://localhost:8080/"
        },
        "id": "3oXhMc3CLE0m",
        "outputId": "3316c2d2-e758-4800-99c5-163c53ff8c30"
      },
      "source": [
        "n_genap = 0  #inisiasi awal\n",
        "n_ganjil = 0 #inisiasi awal\n",
        "for i in list_plat_mobil:\n",
        "    nomor = int(i.split()[1]) \n",
        "    if nomor%2==0:\n",
        "        n_genap+=1\n",
        "    else:\n",
        "        n_ganjil+=1\n",
        "        \n",
        "print('Jumlah Plat Genap ada', n_genap)\n",
        "print('Jumlah Plat Ganjil ada', n_ganjil)"
      ],
      "execution_count": null,
      "outputs": [
        {
          "output_type": "stream",
          "text": [
            "Jumlah Plat Genap ada 2\n",
            "Jumlah Plat Ganjil ada 7\n"
          ],
          "name": "stdout"
        }
      ]
    },
    {
      "cell_type": "code",
      "metadata": {
        "colab": {
          "base_uri": "https://localhost:8080/"
        },
        "id": "d0NlkADwLjo8",
        "outputId": "834a9e6c-24d3-455a-97d0-abf3434f4496"
      },
      "source": [
        "#buat prototype #2\n",
        "import re\n",
        "plat = 'B 1234 AB'\n",
        "re.findall('\\d+', plat) #regex dalam suatu string hanya mengambil numericb"
      ],
      "execution_count": null,
      "outputs": [
        {
          "output_type": "execute_result",
          "data": {
            "text/plain": [
              "['1234']"
            ]
          },
          "metadata": {
            "tags": []
          },
          "execution_count": 7
        }
      ]
    },
    {
      "cell_type": "code",
      "metadata": {
        "colab": {
          "base_uri": "https://localhost:8080/"
        },
        "id": "bjaQcdTiLm09",
        "outputId": "d2d21236-77c6-4ade-8511-5effd9e8f6c1"
      },
      "source": [
        "#buat prototype #2\n",
        "plat = 'B 1234 AB'\n",
        "nomor = re.findall('\\d+', plat)[0] #regex dalam suatu string hanya mengambil numeric, karena hanya 1 maka index 0\n",
        "nomor = int(nomor)\n",
        "nomor"
      ],
      "execution_count": null,
      "outputs": [
        {
          "output_type": "execute_result",
          "data": {
            "text/plain": [
              "1234"
            ]
          },
          "metadata": {
            "tags": []
          },
          "execution_count": 8
        }
      ]
    },
    {
      "cell_type": "code",
      "metadata": {
        "colab": {
          "base_uri": "https://localhost:8080/"
        },
        "id": "D3V4A8c2LrW-",
        "outputId": "bbaebb9e-ba57-4f5b-fbff-d4f684b95a9a"
      },
      "source": [
        "n_genap = 0  #inisiasi awal\n",
        "n_ganjil = 0 #inisiasi awal\n",
        "for i in list_plat_mobil:\n",
        "    nomor = int(re.findall('\\d+', i)[0])\n",
        "    if nomor%2==0:\n",
        "        n_genap+=1\n",
        "    else:\n",
        "        n_ganjil+=1\n",
        "        \n",
        "print('Jumlah Plat Genap ada', n_genap)\n",
        "print('Jumlah Plat Ganjil ada', n_ganjil)"
      ],
      "execution_count": null,
      "outputs": [
        {
          "output_type": "stream",
          "text": [
            "Jumlah Plat Genap ada 2\n",
            "Jumlah Plat Ganjil ada 7\n"
          ],
          "name": "stdout"
        }
      ]
    },
    {
      "cell_type": "markdown",
      "metadata": {
        "id": "q2s5m4pNLaXA"
      },
      "source": [
        "# Soal 2"
      ]
    },
    {
      "cell_type": "markdown",
      "metadata": {
        "id": "5OEqiPbsMIHc"
      },
      "source": [
        "Buatlah deret fibonacci 12 angka yang dimulai dari 2 dan 3 menggunakan iterasi cara for atau while. \n",
        "\n",
        "Output yang diharapkan adalah [2, 3, 5, 8, 13, 21, 34, 55, 89, 144, 233, 377]"
      ]
    },
    {
      "cell_type": "markdown",
      "metadata": {
        "id": "M6r3TMltMUiR"
      },
      "source": [
        "### For Iteration"
      ]
    },
    {
      "cell_type": "code",
      "metadata": {
        "colab": {
          "base_uri": "https://localhost:8080/"
        },
        "id": "WQWzEcgSMdTo",
        "outputId": "8cae1f40-ee98-40f6-86b3-5dc97cf88b2d"
      },
      "source": [
        "# identifikasi awal\n",
        "n1 = 2 #nilai pertama\n",
        "n2 = 3 #nilai kedua\n",
        "length = 12\n",
        "count = 0\n",
        "\n",
        "list_finbonacci = [n1, n2]\n",
        "for i in range(length-2): #dilakukan pengurangan 2 karena pada list_finbonacci sudah terisi 2 item n1 dan n2\n",
        "    nexts = n1 + n2 #untuk membuat variabel nilai selanjutnya dari penjumlahan n1+n2\n",
        "    # update values\n",
        "    n1 = n2 #n1 menjadi n2\n",
        "    n2 = nexts #n2 menjadi bilangan selanjutnya atau nexts\n",
        "    list_finbonacci.append(nexts) #melakukan penambahan item pada list setiap iterasi\n",
        "\n",
        "print(list_finbonacci)"
      ],
      "execution_count": null,
      "outputs": [
        {
          "output_type": "stream",
          "text": [
            "[2, 3, 5, 8, 13, 21, 34, 55, 89, 144, 233, 377]\n"
          ],
          "name": "stdout"
        }
      ]
    },
    {
      "cell_type": "markdown",
      "metadata": {
        "id": "8YZMm_9yMawR"
      },
      "source": [
        "### While Iteration"
      ]
    },
    {
      "cell_type": "code",
      "metadata": {
        "colab": {
          "base_uri": "https://localhost:8080/"
        },
        "id": "BGKpCbkwMmnk",
        "outputId": "6d6d575d-db7b-4da7-e429-4ae395b6f86e"
      },
      "source": [
        "# identifikasi awal\n",
        "n1 = 2 #nilai pertama\n",
        "n2 = 3 #nilai kedua\n",
        "length = 12\n",
        "count = 0\n",
        "\n",
        "list_finbonacci = [n1, n2]\n",
        "while count < length-2: #dilakukan pengurangan 2 karena pada list_finbonacci sudah terisi 2 item n1 dan n2\n",
        "    nexts = n1 + n2 #untuk membuat variabel nilai selanjutnya dari penjumlahan n1+n2\n",
        "    # update values\n",
        "    n1 = n2\n",
        "    n2 = nexts\n",
        "    list_finbonacci.append(nexts) #melakukan penambahan item pada list setiap iterasi\n",
        "    count += 1 \n",
        "\n",
        "print(list_finbonacci)"
      ],
      "execution_count": null,
      "outputs": [
        {
          "output_type": "stream",
          "text": [
            "[2, 3, 5, 8, 13, 21, 34, 55, 89, 144, 233, 377]\n"
          ],
          "name": "stdout"
        }
      ]
    },
    {
      "cell_type": "markdown",
      "metadata": {
        "id": "Oitxjeh5Ly9w"
      },
      "source": [
        "# Soal 3"
      ]
    },
    {
      "cell_type": "markdown",
      "metadata": {
        "id": "sbTg0s00Mu8S"
      },
      "source": [
        "Team Campaign PT ABC akan membuat promo bundling category product (berisi 3 category setiap bundling) untuk promo 17 Agustus.  PT ABC memiliki 10 category product.  Ketentuan Bundling tidak boleh hanya memiliki 1 jenis category dalam 1 bundling dan urutan tidak menjadi faktor pembeda (c1 - c2 - c3 = c2 - c1 - c3). Tentukan ada berapa jumlah kemungkinan bundling yang bisa terbentuk?\n",
        "\n",
        "Berikut list code category <b>list_id_category</b> = [c1, c2, c3, c4, c5, c6, c7 , c8, c9, c10]"
      ]
    },
    {
      "cell_type": "code",
      "metadata": {
        "id": "LmB6yMX2M0rO"
      },
      "source": [
        "list_id_category = ['c1', 'c2', 'c3', 'c4', 'c5', 'c6', 'c7' , 'c8', 'c9', 'c10']"
      ],
      "execution_count": null,
      "outputs": []
    },
    {
      "cell_type": "code",
      "metadata": {
        "colab": {
          "base_uri": "https://localhost:8080/"
        },
        "id": "CTV_zEKkPegI",
        "outputId": "a55628db-b9c6-4d19-ce7b-ee69f79d9693"
      },
      "source": [
        "sorted(['a1', 'a3', 'a2'])b"
      ],
      "execution_count": null,
      "outputs": [
        {
          "output_type": "execute_result",
          "data": {
            "text/plain": [
              "['a1', 'a2', 'a3']"
            ]
          },
          "metadata": {
            "tags": []
          },
          "execution_count": 14
        }
      ]
    },
    {
      "cell_type": "code",
      "metadata": {
        "colab": {
          "base_uri": "https://localhost:8080/"
        },
        "id": "7U_E0Hp9PiQv",
        "outputId": "3dc061e2-b704-40cf-c8df-066f4b19dfaa"
      },
      "source": [
        "list_bundling_category = []\n",
        "\n",
        "for i in list_id_category:\n",
        "    a1 = i #category 1\n",
        "    for y in list_id_category:\n",
        "        a2 = y #category 2\n",
        "        for x in list_id_category:\n",
        "            a3 = x #category 3\n",
        "            list_temp = sorted([a1, a2, a3]) #perlu di sort terlebih dulu dibuat list temporary yang selalu berubah\n",
        "            if list_temp not in list_bundling_category and a1!=a2!=a3:\n",
        "                list_bundling_category.append(list_temp)\n",
        "                \n",
        "# print(list_bundling_category)\n",
        "print('Terdapat', len(list_bundling_category), 'kemungkinan bundling category untuk keperluan campaign')"
      ],
      "execution_count": null,
      "outputs": [
        {
          "output_type": "stream",
          "text": [
            "Terdapat 210 kemungkinan bundling category untuk keperluan campaign\n"
          ],
          "name": "stdout"
        }
      ]
    },
    {
      "cell_type": "markdown",
      "metadata": {
        "id": "vBfCpeZnL0ux"
      },
      "source": [
        "# Soal 4"
      ]
    },
    {
      "cell_type": "markdown",
      "metadata": {
        "id": "hfWy9KYeP-Fv"
      },
      "source": [
        "Buatlah sebuah function string_processor dengan inputan 2 parameter, yaitu suatu string 1 kata dan nama proses yang akan dilakukan. Function ini memiliki 4 proses\n",
        "- first_char : return huruf pertama dari string yang diinput\n",
        "- last_char : return huruf terakhir dari string yang diinput\n",
        "- num_chars : return jumlah huruf string input\n",
        "- num_vowels : return jumlah huruf vocal pada string input\n"
      ]
    },
    {
      "cell_type": "code",
      "metadata": {
        "id": "fvOrULxqQGra"
      },
      "source": [
        "def string_processor(metode, string):\n",
        "    string = string.lower()\n",
        "    if metode == 'first_char':\n",
        "        result = string[0]\n",
        "    elif metode == 'last_char':\n",
        "        result = string[-1]\n",
        "    elif metode == 'num_chars':\n",
        "        result = len(string)\n",
        "    elif metode == 'num_vowels':\n",
        "        num_vowels = 0\n",
        "        for i in string:\n",
        "          if i in ['a', 'e', 'i', 'u', 'o']:\n",
        "            num_vowels += 1\n",
        "        result = num_vowels\n",
        "    else:\n",
        "        result = 'Inputan Salah'\n",
        "    return result"
      ],
      "execution_count": null,
      "outputs": []
    },
    {
      "cell_type": "code",
      "metadata": {
        "colab": {
          "base_uri": "https://localhost:8080/"
        },
        "id": "GkH6vMaKQOXA",
        "outputId": "cbf70a0e-bac9-4286-f329-1952c70b65c9"
      },
      "source": [
        "#TESTING\n",
        "\n",
        "t1 = 'pasar'\n",
        "t2 = 'rumah'\n",
        "t3 = 'mawar'\n",
        "t4 = 'ibadah'\n",
        "\n",
        "print('Hasil Testing first char dari',t1, 'adalah', string_processor('first_char', t1))\n",
        "print('Hasil Testing last char dari',t2, 'adalah', string_processor('last_char', t2))\n",
        "print('Hasil Testing total chars dari',t3, 'adalah', string_processor('num_chars', t3))\n",
        "print('Hasil Testing total chars vowel dari',t4, 'adalah', string_processor('num_vowels', t4))"
      ],
      "execution_count": null,
      "outputs": [
        {
          "output_type": "stream",
          "text": [
            "Hasil Testing first char dari pasar adalah p\n",
            "Hasil Testing last char dari rumah adalah h\n",
            "Hasil Testing total chars dari mawar adalah 5\n",
            "Hasil Testing total chars vowel dari ibadah adalah 3\n"
          ],
          "name": "stdout"
        }
      ]
    },
    {
      "cell_type": "markdown",
      "metadata": {
        "id": "eNwMeE9GL2W4"
      },
      "source": [
        "# Soal 5"
      ]
    },
    {
      "cell_type": "markdown",
      "metadata": {
        "id": "tzEIBqWxQVBi"
      },
      "source": [
        "Menggunakan dataset rakamin_store_city_monthly! Buatlah 1 kolom baru pada dengan teknik apply lambda tanpa function def (cukup one liner) dengan nama kolom is_gmail dengan value True jika menggunakan gmail dan False jika selain gmail. \n",
        "\n",
        "Tentukan ada berapa user yang menggunakan email gmail pada tahun 2018!"
      ]
    },
    {
      "cell_type": "code",
      "metadata": {
        "colab": {
          "resources": {
            "http://localhost:8080/nbextensions/google.colab/files.js": {
              "data": "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",
              "ok": true,
              "headers": [
                [
                  "content-type",
                  "application/javascript"
                ]
              ],
              "status": 200,
              "status_text": ""
            }
          },
          "base_uri": "https://localhost:8080/",
          "height": 73
        },
        "id": "Hm2pqHvGQYUA",
        "outputId": "f7ae4c2e-8fba-4c0b-efa2-c94131d0c8cf"
      },
      "source": [
        "from google.colab import files\n",
        "uploaded = files.upload()"
      ],
      "execution_count": null,
      "outputs": [
        {
          "output_type": "display_data",
          "data": {
            "text/html": [
              "\n",
              "     <input type=\"file\" id=\"files-297f18ee-a07a-4d16-9817-e60ccf7dc973\" name=\"files[]\" multiple disabled\n",
              "        style=\"border:none\" />\n",
              "     <output id=\"result-297f18ee-a07a-4d16-9817-e60ccf7dc973\">\n",
              "      Upload widget is only available when the cell has been executed in the\n",
              "      current browser session. Please rerun this cell to enable.\n",
              "      </output>\n",
              "      <script src=\"/nbextensions/google.colab/files.js\"></script> "
            ],
            "text/plain": [
              "<IPython.core.display.HTML object>"
            ]
          },
          "metadata": {
            "tags": []
          }
        },
        {
          "output_type": "stream",
          "text": [
            "Saving rakamin_store_city_monthly.csv to rakamin_store_city_monthly.csv\n"
          ],
          "name": "stdout"
        }
      ]
    },
    {
      "cell_type": "code",
      "metadata": {
        "colab": {
          "base_uri": "https://localhost:8080/",
          "height": 202
        },
        "id": "lD-U6sUdRrrq",
        "outputId": "06e55569-c606-474c-8556-e4cf46e1efd8"
      },
      "source": [
        "import pandas as pd\n",
        "\n",
        "df = pd.read_csv('rakamin_store_city_monthly.csv', sep=';')\n",
        "df.head()"
      ],
      "execution_count": null,
      "outputs": [
        {
          "output_type": "execute_result",
          "data": {
            "text/html": [
              "<div>\n",
              "<style scoped>\n",
              "    .dataframe tbody tr th:only-of-type {\n",
              "        vertical-align: middle;\n",
              "    }\n",
              "\n",
              "    .dataframe tbody tr th {\n",
              "        vertical-align: top;\n",
              "    }\n",
              "\n",
              "    .dataframe thead th {\n",
              "        text-align: right;\n",
              "    }\n",
              "</style>\n",
              "<table border=\"1\" class=\"dataframe\">\n",
              "  <thead>\n",
              "    <tr style=\"text-align: right;\">\n",
              "      <th></th>\n",
              "      <th>month</th>\n",
              "      <th>user_id</th>\n",
              "      <th>username</th>\n",
              "      <th>email</th>\n",
              "      <th>kota</th>\n",
              "      <th>total_visit</th>\n",
              "      <th>total_order</th>\n",
              "      <th>total_amount</th>\n",
              "    </tr>\n",
              "  </thead>\n",
              "  <tbody>\n",
              "    <tr>\n",
              "      <th>0</th>\n",
              "      <td>2016-01</td>\n",
              "      <td>16</td>\n",
              "      <td>Kevin Ningsih</td>\n",
              "      <td>kevinningsih@roketmail.com</td>\n",
              "      <td>Jakarta Selatan</td>\n",
              "      <td>95</td>\n",
              "      <td>15</td>\n",
              "      <td>45724</td>\n",
              "    </tr>\n",
              "    <tr>\n",
              "      <th>1</th>\n",
              "      <td>2016-01</td>\n",
              "      <td>25</td>\n",
              "      <td>Sakti Hasaniy</td>\n",
              "      <td>saktihasaniy@outlook.com</td>\n",
              "      <td>Jakarta Pusat</td>\n",
              "      <td>97</td>\n",
              "      <td>1</td>\n",
              "      <td>26665</td>\n",
              "    </tr>\n",
              "    <tr>\n",
              "      <th>2</th>\n",
              "      <td>2016-01</td>\n",
              "      <td>39</td>\n",
              "      <td>Izhar Halim</td>\n",
              "      <td>izharhalim@gmail.com</td>\n",
              "      <td>Jakarta Timur</td>\n",
              "      <td>84</td>\n",
              "      <td>33</td>\n",
              "      <td>899001</td>\n",
              "    </tr>\n",
              "    <tr>\n",
              "      <th>3</th>\n",
              "      <td>2016-02</td>\n",
              "      <td>8</td>\n",
              "      <td>Dikposa Yosua Krisnanto</td>\n",
              "      <td>dikposayosuakrisnanto@hotmail.com</td>\n",
              "      <td>Jakarta Pusat</td>\n",
              "      <td>113</td>\n",
              "      <td>11</td>\n",
              "      <td>22012</td>\n",
              "    </tr>\n",
              "    <tr>\n",
              "      <th>4</th>\n",
              "      <td>2016-02</td>\n",
              "      <td>34</td>\n",
              "      <td>Ismail Wardhani</td>\n",
              "      <td>ismailwardhani@hotmail.com</td>\n",
              "      <td>Jakarta Selatan</td>\n",
              "      <td>25</td>\n",
              "      <td>2</td>\n",
              "      <td>55620</td>\n",
              "    </tr>\n",
              "  </tbody>\n",
              "</table>\n",
              "</div>"
            ],
            "text/plain": [
              "     month  user_id  ... total_order total_amount\n",
              "0  2016-01       16  ...          15        45724\n",
              "1  2016-01       25  ...           1        26665\n",
              "2  2016-01       39  ...          33       899001\n",
              "3  2016-02        8  ...          11        22012\n",
              "4  2016-02       34  ...           2        55620\n",
              "\n",
              "[5 rows x 8 columns]"
            ]
          },
          "metadata": {
            "tags": []
          },
          "execution_count": 21
        }
      ]
    },
    {
      "cell_type": "code",
      "metadata": {
        "colab": {
          "base_uri": "https://localhost:8080/",
          "height": 202
        },
        "id": "jUQHLdtWR5oV",
        "outputId": "29819335-b474-446d-f544-ecf7765db202"
      },
      "source": [
        "#get year\n",
        "df['year'] = df['month'].apply(lambda x: x[:4])\n",
        "df['year'] = df['year'].astype(int)\n",
        "df.head()"
      ],
      "execution_count": null,
      "outputs": [
        {
          "output_type": "execute_result",
          "data": {
            "text/html": [
              "<div>\n",
              "<style scoped>\n",
              "    .dataframe tbody tr th:only-of-type {\n",
              "        vertical-align: middle;\n",
              "    }\n",
              "\n",
              "    .dataframe tbody tr th {\n",
              "        vertical-align: top;\n",
              "    }\n",
              "\n",
              "    .dataframe thead th {\n",
              "        text-align: right;\n",
              "    }\n",
              "</style>\n",
              "<table border=\"1\" class=\"dataframe\">\n",
              "  <thead>\n",
              "    <tr style=\"text-align: right;\">\n",
              "      <th></th>\n",
              "      <th>month</th>\n",
              "      <th>user_id</th>\n",
              "      <th>username</th>\n",
              "      <th>email</th>\n",
              "      <th>kota</th>\n",
              "      <th>total_visit</th>\n",
              "      <th>total_order</th>\n",
              "      <th>total_amount</th>\n",
              "      <th>year</th>\n",
              "    </tr>\n",
              "  </thead>\n",
              "  <tbody>\n",
              "    <tr>\n",
              "      <th>0</th>\n",
              "      <td>2016-01</td>\n",
              "      <td>16</td>\n",
              "      <td>Kevin Ningsih</td>\n",
              "      <td>kevinningsih@roketmail.com</td>\n",
              "      <td>Jakarta Selatan</td>\n",
              "      <td>95</td>\n",
              "      <td>15</td>\n",
              "      <td>45724</td>\n",
              "      <td>2016</td>\n",
              "    </tr>\n",
              "    <tr>\n",
              "      <th>1</th>\n",
              "      <td>2016-01</td>\n",
              "      <td>25</td>\n",
              "      <td>Sakti Hasaniy</td>\n",
              "      <td>saktihasaniy@outlook.com</td>\n",
              "      <td>Jakarta Pusat</td>\n",
              "      <td>97</td>\n",
              "      <td>1</td>\n",
              "      <td>26665</td>\n",
              "      <td>2016</td>\n",
              "    </tr>\n",
              "    <tr>\n",
              "      <th>2</th>\n",
              "      <td>2016-01</td>\n",
              "      <td>39</td>\n",
              "      <td>Izhar Halim</td>\n",
              "      <td>izharhalim@gmail.com</td>\n",
              "      <td>Jakarta Timur</td>\n",
              "      <td>84</td>\n",
              "      <td>33</td>\n",
              "      <td>899001</td>\n",
              "      <td>2016</td>\n",
              "    </tr>\n",
              "    <tr>\n",
              "      <th>3</th>\n",
              "      <td>2016-02</td>\n",
              "      <td>8</td>\n",
              "      <td>Dikposa Yosua Krisnanto</td>\n",
              "      <td>dikposayosuakrisnanto@hotmail.com</td>\n",
              "      <td>Jakarta Pusat</td>\n",
              "      <td>113</td>\n",
              "      <td>11</td>\n",
              "      <td>22012</td>\n",
              "      <td>2016</td>\n",
              "    </tr>\n",
              "    <tr>\n",
              "      <th>4</th>\n",
              "      <td>2016-02</td>\n",
              "      <td>34</td>\n",
              "      <td>Ismail Wardhani</td>\n",
              "      <td>ismailwardhani@hotmail.com</td>\n",
              "      <td>Jakarta Selatan</td>\n",
              "      <td>25</td>\n",
              "      <td>2</td>\n",
              "      <td>55620</td>\n",
              "      <td>2016</td>\n",
              "    </tr>\n",
              "  </tbody>\n",
              "</table>\n",
              "</div>"
            ],
            "text/plain": [
              "     month  user_id                 username  ... total_order total_amount  year\n",
              "0  2016-01       16            Kevin Ningsih  ...          15        45724  2016\n",
              "1  2016-01       25            Sakti Hasaniy  ...           1        26665  2016\n",
              "2  2016-01       39              Izhar Halim  ...          33       899001  2016\n",
              "3  2016-02        8  Dikposa Yosua Krisnanto  ...          11        22012  2016\n",
              "4  2016-02       34          Ismail Wardhani  ...           2        55620  2016\n",
              "\n",
              "[5 rows x 9 columns]"
            ]
          },
          "metadata": {
            "tags": []
          },
          "execution_count": 22
        }
      ]
    },
    {
      "cell_type": "code",
      "metadata": {
        "colab": {
          "base_uri": "https://localhost:8080/"
        },
        "id": "hcYJgYhzSD_2",
        "outputId": "fff5b4c0-dddb-4e8a-a577-b7c29c198e1b"
      },
      "source": [
        "#prototype logic gmail or not\n",
        "email = 'izharhalim@gmail.com'\n",
        "'gmail' in email #check true / false menggunakan in"
      ],
      "execution_count": null,
      "outputs": [
        {
          "output_type": "execute_result",
          "data": {
            "text/plain": [
              "True"
            ]
          },
          "metadata": {
            "tags": []
          },
          "execution_count": 23
        }
      ]
    },
    {
      "cell_type": "code",
      "metadata": {
        "colab": {
          "base_uri": "https://localhost:8080/",
          "height": 289
        },
        "id": "cQgfSw_sSMzD",
        "outputId": "4208c3cd-8bc2-447c-9cd0-88c62750afe2"
      },
      "source": [
        "df['is_gmail'] = df['email'].apply(lambda x: 'gmail' in x)\n",
        "df.head()"
      ],
      "execution_count": null,
      "outputs": [
        {
          "output_type": "execute_result",
          "data": {
            "text/html": [
              "<div>\n",
              "<style scoped>\n",
              "    .dataframe tbody tr th:only-of-type {\n",
              "        vertical-align: middle;\n",
              "    }\n",
              "\n",
              "    .dataframe tbody tr th {\n",
              "        vertical-align: top;\n",
              "    }\n",
              "\n",
              "    .dataframe thead th {\n",
              "        text-align: right;\n",
              "    }\n",
              "</style>\n",
              "<table border=\"1\" class=\"dataframe\">\n",
              "  <thead>\n",
              "    <tr style=\"text-align: right;\">\n",
              "      <th></th>\n",
              "      <th>month</th>\n",
              "      <th>user_id</th>\n",
              "      <th>username</th>\n",
              "      <th>email</th>\n",
              "      <th>kota</th>\n",
              "      <th>total_visit</th>\n",
              "      <th>total_order</th>\n",
              "      <th>total_amount</th>\n",
              "      <th>year</th>\n",
              "      <th>is_gmail</th>\n",
              "    </tr>\n",
              "  </thead>\n",
              "  <tbody>\n",
              "    <tr>\n",
              "      <th>0</th>\n",
              "      <td>2016-01</td>\n",
              "      <td>16</td>\n",
              "      <td>Kevin Ningsih</td>\n",
              "      <td>kevinningsih@roketmail.com</td>\n",
              "      <td>Jakarta Selatan</td>\n",
              "      <td>95</td>\n",
              "      <td>15</td>\n",
              "      <td>45724</td>\n",
              "      <td>2016</td>\n",
              "      <td>False</td>\n",
              "    </tr>\n",
              "    <tr>\n",
              "      <th>1</th>\n",
              "      <td>2016-01</td>\n",
              "      <td>25</td>\n",
              "      <td>Sakti Hasaniy</td>\n",
              "      <td>saktihasaniy@outlook.com</td>\n",
              "      <td>Jakarta Pusat</td>\n",
              "      <td>97</td>\n",
              "      <td>1</td>\n",
              "      <td>26665</td>\n",
              "      <td>2016</td>\n",
              "      <td>False</td>\n",
              "    </tr>\n",
              "    <tr>\n",
              "      <th>2</th>\n",
              "      <td>2016-01</td>\n",
              "      <td>39</td>\n",
              "      <td>Izhar Halim</td>\n",
              "      <td>izharhalim@gmail.com</td>\n",
              "      <td>Jakarta Timur</td>\n",
              "      <td>84</td>\n",
              "      <td>33</td>\n",
              "      <td>899001</td>\n",
              "      <td>2016</td>\n",
              "      <td>True</td>\n",
              "    </tr>\n",
              "    <tr>\n",
              "      <th>3</th>\n",
              "      <td>2016-02</td>\n",
              "      <td>8</td>\n",
              "      <td>Dikposa Yosua Krisnanto</td>\n",
              "      <td>dikposayosuakrisnanto@hotmail.com</td>\n",
              "      <td>Jakarta Pusat</td>\n",
              "      <td>113</td>\n",
              "      <td>11</td>\n",
              "      <td>22012</td>\n",
              "      <td>2016</td>\n",
              "      <td>False</td>\n",
              "    </tr>\n",
              "    <tr>\n",
              "      <th>4</th>\n",
              "      <td>2016-02</td>\n",
              "      <td>34</td>\n",
              "      <td>Ismail Wardhani</td>\n",
              "      <td>ismailwardhani@hotmail.com</td>\n",
              "      <td>Jakarta Selatan</td>\n",
              "      <td>25</td>\n",
              "      <td>2</td>\n",
              "      <td>55620</td>\n",
              "      <td>2016</td>\n",
              "      <td>False</td>\n",
              "    </tr>\n",
              "  </tbody>\n",
              "</table>\n",
              "</div>"
            ],
            "text/plain": [
              "     month  user_id                 username  ... total_amount  year  is_gmail\n",
              "0  2016-01       16            Kevin Ningsih  ...        45724  2016     False\n",
              "1  2016-01       25            Sakti Hasaniy  ...        26665  2016     False\n",
              "2  2016-01       39              Izhar Halim  ...       899001  2016      True\n",
              "3  2016-02        8  Dikposa Yosua Krisnanto  ...        22012  2016     False\n",
              "4  2016-02       34          Ismail Wardhani  ...        55620  2016     False\n",
              "\n",
              "[5 rows x 10 columns]"
            ]
          },
          "metadata": {
            "tags": []
          },
          "execution_count": 24
        }
      ]
    },
    {
      "cell_type": "code",
      "metadata": {
        "colab": {
          "base_uri": "https://localhost:8080/",
          "height": 110
        },
        "id": "UJSEEfc0STCd",
        "outputId": "f846ce28-b738-4806-d120-7bbb0b04e511"
      },
      "source": [
        "# Filter tahun 2018\n",
        "\n",
        "df_year = df[(df.year == 2018)].groupby(['year', 'is_gmail'])['user_id'].nunique().reset_index()\n",
        "df_year.columns = ['year', 'is_gmail', 'total_user']\n",
        "df_year"
      ],
      "execution_count": null,
      "outputs": [
        {
          "output_type": "execute_result",
          "data": {
            "text/html": [
              "<div>\n",
              "<style scoped>\n",
              "    .dataframe tbody tr th:only-of-type {\n",
              "        vertical-align: middle;\n",
              "    }\n",
              "\n",
              "    .dataframe tbody tr th {\n",
              "        vertical-align: top;\n",
              "    }\n",
              "\n",
              "    .dataframe thead th {\n",
              "        text-align: right;\n",
              "    }\n",
              "</style>\n",
              "<table border=\"1\" class=\"dataframe\">\n",
              "  <thead>\n",
              "    <tr style=\"text-align: right;\">\n",
              "      <th></th>\n",
              "      <th>year</th>\n",
              "      <th>is_gmail</th>\n",
              "      <th>total_user</th>\n",
              "    </tr>\n",
              "  </thead>\n",
              "  <tbody>\n",
              "    <tr>\n",
              "      <th>0</th>\n",
              "      <td>2018</td>\n",
              "      <td>False</td>\n",
              "      <td>14</td>\n",
              "    </tr>\n",
              "    <tr>\n",
              "      <th>1</th>\n",
              "      <td>2018</td>\n",
              "      <td>True</td>\n",
              "      <td>3</td>\n",
              "    </tr>\n",
              "  </tbody>\n",
              "</table>\n",
              "</div>"
            ],
            "text/plain": [
              "   year  is_gmail  total_user\n",
              "0  2018     False          14\n",
              "1  2018      True           3"
            ]
          },
          "metadata": {
            "tags": []
          },
          "execution_count": 25
        }
      ]
    },
    {
      "cell_type": "code",
      "metadata": {
        "id": "Qu-v2aofS143"
      },
      "source": [
        "n_true = df_year[(df_year.is_gmail == True)].reset_index()['total_user'][0]"
      ],
      "execution_count": null,
      "outputs": []
    },
    {
      "cell_type": "code",
      "metadata": {
        "colab": {
          "base_uri": "https://localhost:8080/"
        },
        "id": "ir1S8mZSSe5N",
        "outputId": "c64062bf-9cd7-46bd-d6d6-51f96efc57d0"
      },
      "source": [
        "print('Total user yang menggunakan email gmail pada tahun 2018 sebanyak', n_true)"
      ],
      "execution_count": null,
      "outputs": [
        {
          "output_type": "stream",
          "text": [
            "Total user yang menggunakan email gmail pada tahun 2018 sebanyak 3\n"
          ],
          "name": "stdout"
        }
      ]
    },
    {
      "cell_type": "markdown",
      "metadata": {
        "id": "bIIn-9tGL32l"
      },
      "source": [
        "# Soal 6"
      ]
    },
    {
      "cell_type": "markdown",
      "metadata": {
        "id": "2c-3Cg0UTOgk"
      },
      "source": [
        "Menggunakan dataset superstore! Buatlah function yang bisa menghitung Jumlah Sales dan Profit pada suatu tahun dan region tertentu dengan default tahun 2017. Hint : Buat kolom tahun\n",
        "\n",
        "<b>Tentukan total sales dan profit:</b><br>\n",
        "- South Region pada tahun 2016\n",
        "- West Region pada tahun 2017"
      ]
    },
    {
      "cell_type": "code",
      "metadata": {
        "colab": {
          "resources": {
            "http://localhost:8080/nbextensions/google.colab/files.js": {
              "data": "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",
              "ok": true,
              "headers": [
                [
                  "content-type",
                  "application/javascript"
                ]
              ],
              "status": 200,
              "status_text": ""
            }
          },
          "base_uri": "https://localhost:8080/",
          "height": 73
        },
        "id": "o6CbtnlwTnDy",
        "outputId": "8edd57df-2e5c-4749-efb4-8539291dc9cb"
      },
      "source": [
        "from google.colab import files\n",
        "uploaded = files.upload()"
      ],
      "execution_count": null,
      "outputs": [
        {
          "output_type": "display_data",
          "data": {
            "text/html": [
              "\n",
              "     <input type=\"file\" id=\"files-a4a17b45-2f46-435a-83bf-fdc495b0254b\" name=\"files[]\" multiple disabled\n",
              "        style=\"border:none\" />\n",
              "     <output id=\"result-a4a17b45-2f46-435a-83bf-fdc495b0254b\">\n",
              "      Upload widget is only available when the cell has been executed in the\n",
              "      current browser session. Please rerun this cell to enable.\n",
              "      </output>\n",
              "      <script src=\"/nbextensions/google.colab/files.js\"></script> "
            ],
            "text/plain": [
              "<IPython.core.display.HTML object>"
            ]
          },
          "metadata": {
            "tags": []
          }
        },
        {
          "output_type": "stream",
          "text": [
            "Saving superstore.xls to superstore.xls\n"
          ],
          "name": "stdout"
        }
      ]
    },
    {
      "cell_type": "code",
      "metadata": {
        "colab": {
          "base_uri": "https://localhost:8080/",
          "height": 386
        },
        "id": "R-5mpKuaT9xj",
        "outputId": "3c1e0531-9e7d-4b77-e44e-cb206b6055ed"
      },
      "source": [
        "import pandas as pd\n",
        "import numpy as np\n",
        "\n",
        "df = pd.read_excel('superstore.xls')\n",
        "df.head(3)"
      ],
      "execution_count": null,
      "outputs": [
        {
          "output_type": "execute_result",
          "data": {
            "text/html": [
              "<div>\n",
              "<style scoped>\n",
              "    .dataframe tbody tr th:only-of-type {\n",
              "        vertical-align: middle;\n",
              "    }\n",
              "\n",
              "    .dataframe tbody tr th {\n",
              "        vertical-align: top;\n",
              "    }\n",
              "\n",
              "    .dataframe thead th {\n",
              "        text-align: right;\n",
              "    }\n",
              "</style>\n",
              "<table border=\"1\" class=\"dataframe\">\n",
              "  <thead>\n",
              "    <tr style=\"text-align: right;\">\n",
              "      <th></th>\n",
              "      <th>Row ID</th>\n",
              "      <th>Order ID</th>\n",
              "      <th>Order Date</th>\n",
              "      <th>Ship Date</th>\n",
              "      <th>Ship Mode</th>\n",
              "      <th>Customer ID</th>\n",
              "      <th>Customer Name</th>\n",
              "      <th>Segment</th>\n",
              "      <th>Country</th>\n",
              "      <th>City</th>\n",
              "      <th>State</th>\n",
              "      <th>Postal Code</th>\n",
              "      <th>Region</th>\n",
              "      <th>Product ID</th>\n",
              "      <th>Category</th>\n",
              "      <th>Sub-Category</th>\n",
              "      <th>Product Name</th>\n",
              "      <th>Sales</th>\n",
              "      <th>Quantity</th>\n",
              "      <th>Discount</th>\n",
              "      <th>Profit</th>\n",
              "    </tr>\n",
              "  </thead>\n",
              "  <tbody>\n",
              "    <tr>\n",
              "      <th>0</th>\n",
              "      <td>1</td>\n",
              "      <td>CA-2016-152156</td>\n",
              "      <td>2016-11-08</td>\n",
              "      <td>2016-11-11</td>\n",
              "      <td>Second Class</td>\n",
              "      <td>CG-12520</td>\n",
              "      <td>Claire Gute</td>\n",
              "      <td>Consumer</td>\n",
              "      <td>United States</td>\n",
              "      <td>Henderson</td>\n",
              "      <td>Kentucky</td>\n",
              "      <td>42420</td>\n",
              "      <td>South</td>\n",
              "      <td>FUR-BO-10001798</td>\n",
              "      <td>Furniture</td>\n",
              "      <td>Bookcases</td>\n",
              "      <td>Bush Somerset Collection Bookcase</td>\n",
              "      <td>261.96</td>\n",
              "      <td>2</td>\n",
              "      <td>0.0</td>\n",
              "      <td>41.9136</td>\n",
              "    </tr>\n",
              "    <tr>\n",
              "      <th>1</th>\n",
              "      <td>2</td>\n",
              "      <td>CA-2016-152156</td>\n",
              "      <td>2016-11-08</td>\n",
              "      <td>2016-11-11</td>\n",
              "      <td>Second Class</td>\n",
              "      <td>CG-12520</td>\n",
              "      <td>Claire Gute</td>\n",
              "      <td>Consumer</td>\n",
              "      <td>United States</td>\n",
              "      <td>Henderson</td>\n",
              "      <td>Kentucky</td>\n",
              "      <td>42420</td>\n",
              "      <td>South</td>\n",
              "      <td>FUR-CH-10000454</td>\n",
              "      <td>Furniture</td>\n",
              "      <td>Chairs</td>\n",
              "      <td>Hon Deluxe Fabric Upholstered Stacking Chairs,...</td>\n",
              "      <td>731.94</td>\n",
              "      <td>3</td>\n",
              "      <td>0.0</td>\n",
              "      <td>219.5820</td>\n",
              "    </tr>\n",
              "    <tr>\n",
              "      <th>2</th>\n",
              "      <td>3</td>\n",
              "      <td>CA-2016-138688</td>\n",
              "      <td>2016-06-12</td>\n",
              "      <td>2016-06-16</td>\n",
              "      <td>Second Class</td>\n",
              "      <td>DV-13045</td>\n",
              "      <td>Darrin Van Huff</td>\n",
              "      <td>Corporate</td>\n",
              "      <td>United States</td>\n",
              "      <td>Los Angeles</td>\n",
              "      <td>California</td>\n",
              "      <td>90036</td>\n",
              "      <td>West</td>\n",
              "      <td>OFF-LA-10000240</td>\n",
              "      <td>Office Supplies</td>\n",
              "      <td>Labels</td>\n",
              "      <td>Self-Adhesive Address Labels for Typewriters b...</td>\n",
              "      <td>14.62</td>\n",
              "      <td>2</td>\n",
              "      <td>0.0</td>\n",
              "      <td>6.8714</td>\n",
              "    </tr>\n",
              "  </tbody>\n",
              "</table>\n",
              "</div>"
            ],
            "text/plain": [
              "   Row ID        Order ID Order Date  ... Quantity Discount    Profit\n",
              "0       1  CA-2016-152156 2016-11-08  ...        2      0.0   41.9136\n",
              "1       2  CA-2016-152156 2016-11-08  ...        3      0.0  219.5820\n",
              "2       3  CA-2016-138688 2016-06-12  ...        2      0.0    6.8714\n",
              "\n",
              "[3 rows x 21 columns]"
            ]
          },
          "metadata": {
            "tags": []
          },
          "execution_count": 38
        }
      ]
    },
    {
      "cell_type": "code",
      "metadata": {
        "colab": {
          "base_uri": "https://localhost:8080/"
        },
        "id": "yvnVIjyjULEG",
        "outputId": "4b0ec13e-d885-4fd5-a8e2-91da6eec8a98"
      },
      "source": [
        "df.info()"
      ],
      "execution_count": null,
      "outputs": [
        {
          "output_type": "stream",
          "text": [
            "<class 'pandas.core.frame.DataFrame'>\n",
            "RangeIndex: 9994 entries, 0 to 9993\n",
            "Data columns (total 21 columns):\n",
            " #   Column         Non-Null Count  Dtype         \n",
            "---  ------         --------------  -----         \n",
            " 0   Row ID         9994 non-null   int64         \n",
            " 1   Order ID       9994 non-null   object        \n",
            " 2   Order Date     9994 non-null   datetime64[ns]\n",
            " 3   Ship Date      9994 non-null   datetime64[ns]\n",
            " 4   Ship Mode      9994 non-null   object        \n",
            " 5   Customer ID    9994 non-null   object        \n",
            " 6   Customer Name  9994 non-null   object        \n",
            " 7   Segment        9994 non-null   object        \n",
            " 8   Country        9994 non-null   object        \n",
            " 9   City           9994 non-null   object        \n",
            " 10  State          9994 non-null   object        \n",
            " 11  Postal Code    9994 non-null   int64         \n",
            " 12  Region         9994 non-null   object        \n",
            " 13  Product ID     9994 non-null   object        \n",
            " 14  Category       9994 non-null   object        \n",
            " 15  Sub-Category   9994 non-null   object        \n",
            " 16  Product Name   9994 non-null   object        \n",
            " 17  Sales          9994 non-null   float64       \n",
            " 18  Quantity       9994 non-null   int64         \n",
            " 19  Discount       9994 non-null   float64       \n",
            " 20  Profit         9994 non-null   float64       \n",
            "dtypes: datetime64[ns](2), float64(3), int64(3), object(13)\n",
            "memory usage: 1.6+ MB\n"
          ],
          "name": "stdout"
        }
      ]
    },
    {
      "cell_type": "code",
      "metadata": {
        "colab": {
          "base_uri": "https://localhost:8080/",
          "height": 141
        },
        "id": "cLVdU646URzx",
        "outputId": "072d26fe-cc17-4a06-c769-1200cc806136"
      },
      "source": [
        "#get year\n",
        "df['year'] = df['Order Date'].dt.year #karena type data Order Date Sudah date time (datetime64[ns]) bisa menggunakan fungsi .dt\n",
        "df[['year','Order Date','Order ID', 'Region', 'Sales', 'Profit']].head(3)"
      ],
      "execution_count": null,
      "outputs": [
        {
          "output_type": "execute_result",
          "data": {
            "text/html": [
              "<div>\n",
              "<style scoped>\n",
              "    .dataframe tbody tr th:only-of-type {\n",
              "        vertical-align: middle;\n",
              "    }\n",
              "\n",
              "    .dataframe tbody tr th {\n",
              "        vertical-align: top;\n",
              "    }\n",
              "\n",
              "    .dataframe thead th {\n",
              "        text-align: right;\n",
              "    }\n",
              "</style>\n",
              "<table border=\"1\" class=\"dataframe\">\n",
              "  <thead>\n",
              "    <tr style=\"text-align: right;\">\n",
              "      <th></th>\n",
              "      <th>year</th>\n",
              "      <th>Order Date</th>\n",
              "      <th>Order ID</th>\n",
              "      <th>Region</th>\n",
              "      <th>Sales</th>\n",
              "      <th>Profit</th>\n",
              "    </tr>\n",
              "  </thead>\n",
              "  <tbody>\n",
              "    <tr>\n",
              "      <th>0</th>\n",
              "      <td>2016</td>\n",
              "      <td>2016-11-08</td>\n",
              "      <td>CA-2016-152156</td>\n",
              "      <td>South</td>\n",
              "      <td>261.96</td>\n",
              "      <td>41.9136</td>\n",
              "    </tr>\n",
              "    <tr>\n",
              "      <th>1</th>\n",
              "      <td>2016</td>\n",
              "      <td>2016-11-08</td>\n",
              "      <td>CA-2016-152156</td>\n",
              "      <td>South</td>\n",
              "      <td>731.94</td>\n",
              "      <td>219.5820</td>\n",
              "    </tr>\n",
              "    <tr>\n",
              "      <th>2</th>\n",
              "      <td>2016</td>\n",
              "      <td>2016-06-12</td>\n",
              "      <td>CA-2016-138688</td>\n",
              "      <td>West</td>\n",
              "      <td>14.62</td>\n",
              "      <td>6.8714</td>\n",
              "    </tr>\n",
              "  </tbody>\n",
              "</table>\n",
              "</div>"
            ],
            "text/plain": [
              "   year Order Date        Order ID Region   Sales    Profit\n",
              "0  2016 2016-11-08  CA-2016-152156  South  261.96   41.9136\n",
              "1  2016 2016-11-08  CA-2016-152156  South  731.94  219.5820\n",
              "2  2016 2016-06-12  CA-2016-138688   West   14.62    6.8714"
            ]
          },
          "metadata": {
            "tags": []
          },
          "execution_count": 40
        }
      ]
    },
    {
      "cell_type": "code",
      "metadata": {
        "id": "2ZCWFUWfUYnT"
      },
      "source": [
        "def total_sales_profit(region, year=2017): #default year 2017\n",
        "    #filter dataframe\n",
        "    df_filter = df[(df.year == year) & (df.Region == region)]\n",
        "\n",
        "    #get value sum sales and profit\n",
        "    total_sales = df_filter.Sales.sum()\n",
        "    total_profit = df_filter.Profit.sum()\n",
        "\n",
        "    #return statement 2 values\n",
        "    return total_sales, total_profit #tuple"
      ],
      "execution_count": null,
      "outputs": []
    },
    {
      "cell_type": "code",
      "metadata": {
        "colab": {
          "base_uri": "https://localhost:8080/"
        },
        "id": "6x0j8IdIUnPo",
        "outputId": "265e9b0b-0433-47de-b7a7-6cfbd88d7855"
      },
      "source": [
        "#pertanyaan 1\n",
        "print('Total Sales pada South Region tahun 2016 adalah', round(total_sales_profit('South', 2016)[0], 2))\n",
        "print('Total Profit pada South Region tahun 2016 adalah', round(total_sales_profit('South', 2016)[1], 2))b"
      ],
      "execution_count": null,
      "outputs": [
        {
          "output_type": "stream",
          "text": [
            "Total Sales pada South Region tahun 2016 adalah 93610.22\n",
            "Total Profit pada South Region tahun 2016 adalah 17702.81\n"
          ],
          "name": "stdout"
        }
      ]
    },
    {
      "cell_type": "code",
      "metadata": {
        "colab": {
          "base_uri": "https://localhost:8080/"
        },
        "id": "QEMEhDooU0Ek",
        "outputId": "da591923-4fcc-4cfd-db4c-d263fb080b8c"
      },
      "source": [
        "#pertanyaan 2 v1\n",
        "print('Total Sales pada West Region tahun 2017 adalah', round(total_sales_profit('West', 2017)[0], 2))\n",
        "print('Total Profit pada West Region tahun 2017 adalah', round(total_sales_profit('West', 2017)[1], 2))"
      ],
      "execution_count": null,
      "outputs": [
        {
          "output_type": "stream",
          "text": [
            "Total Sales pada West Region tahun 2017 adalah 250128.37\n",
            "Total Profit pada West Region tahun 2017 adalah 43808.96\n"
          ],
          "name": "stdout"
        }
      ]
    },
    {
      "cell_type": "code",
      "metadata": {
        "colab": {
          "base_uri": "https://localhost:8080/"
        },
        "id": "glBuDijKU7YK",
        "outputId": "3c8a6cbe-8d69-4ad0-cb16-3e6973b5c4b5"
      },
      "source": [
        "#pertanyaan 2 v2\n",
        "print('Total Sales pada West Region tahun 2017 adalah', round(total_sales_profit('West')[0], 2))\n",
        "print('Total Profit pada West Region tahun 2017 adalah', round(total_sales_profit('West')[1], 2))"
      ],
      "execution_count": null,
      "outputs": [
        {
          "output_type": "stream",
          "text": [
            "Total Sales pada West Region tahun 2017 adalah 250128.37\n",
            "Total Profit pada West Region tahun 2017 adalah 43808.96\n"
          ],
          "name": "stdout"
        }
      ]
    },
    {
      "cell_type": "markdown",
      "metadata": {
        "id": "iJOhxBLsL7tr"
      },
      "source": [
        "# Soal 7"
      ]
    },
    {
      "cell_type": "markdown",
      "metadata": {
        "id": "9fMaKSaHVG02"
      },
      "source": [
        "Menggunakan dataset superstore! Buatlah 3 kelompok 'segment'  (high, medium, dan low) berdasarkan performance pembelian yang digunakan sebagai acuan tim bisnis untuk mengelompokan customer superstore. <br>\n",
        "\n",
        "<b>Instruksi:</b>\n",
        "1. Bantulah tim bisnis untuk menentukan kriteria pengelompokan untuk 3 segmentasi customer ini, dan gunakan iterrows atau apply lambda sebagai teknik pembuatan kolom baru!\n",
        "2. Berikan alasan kalian dalam penentuan kriteria pengelompokan customer yang dibuat! \n",
        "3. Tentukan jumlah customer pada masing-masing segment di tahun 2017! \n",
        "\n",
        "Hint : Pahami setiap row pada dataset, pastikan jumlah customer unique\n"
      ]
    },
    {
      "cell_type": "code",
      "metadata": {
        "colab": {
          "base_uri": "https://localhost:8080/",
          "height": 386
        },
        "id": "kehbZbLeVUHm",
        "outputId": "a636f6cb-fcc5-4f2e-df08-b6c62ea1738f"
      },
      "source": [
        "import pandas as pd\n",
        "\n",
        "df = pd.read_excel('superstore.xls')\n",
        "df.head(3)"
      ],
      "execution_count": null,
      "outputs": [
        {
          "output_type": "execute_result",
          "data": {
            "text/html": [
              "<div>\n",
              "<style scoped>\n",
              "    .dataframe tbody tr th:only-of-type {\n",
              "        vertical-align: middle;\n",
              "    }\n",
              "\n",
              "    .dataframe tbody tr th {\n",
              "        vertical-align: top;\n",
              "    }\n",
              "\n",
              "    .dataframe thead th {\n",
              "        text-align: right;\n",
              "    }\n",
              "</style>\n",
              "<table border=\"1\" class=\"dataframe\">\n",
              "  <thead>\n",
              "    <tr style=\"text-align: right;\">\n",
              "      <th></th>\n",
              "      <th>Row ID</th>\n",
              "      <th>Order ID</th>\n",
              "      <th>Order Date</th>\n",
              "      <th>Ship Date</th>\n",
              "      <th>Ship Mode</th>\n",
              "      <th>Customer ID</th>\n",
              "      <th>Customer Name</th>\n",
              "      <th>Segment</th>\n",
              "      <th>Country</th>\n",
              "      <th>City</th>\n",
              "      <th>State</th>\n",
              "      <th>Postal Code</th>\n",
              "      <th>Region</th>\n",
              "      <th>Product ID</th>\n",
              "      <th>Category</th>\n",
              "      <th>Sub-Category</th>\n",
              "      <th>Product Name</th>\n",
              "      <th>Sales</th>\n",
              "      <th>Quantity</th>\n",
              "      <th>Discount</th>\n",
              "      <th>Profit</th>\n",
              "    </tr>\n",
              "  </thead>\n",
              "  <tbody>\n",
              "    <tr>\n",
              "      <th>0</th>\n",
              "      <td>1</td>\n",
              "      <td>CA-2016-152156</td>\n",
              "      <td>2016-11-08</td>\n",
              "      <td>2016-11-11</td>\n",
              "      <td>Second Class</td>\n",
              "      <td>CG-12520</td>\n",
              "      <td>Claire Gute</td>\n",
              "      <td>Consumer</td>\n",
              "      <td>United States</td>\n",
              "      <td>Henderson</td>\n",
              "      <td>Kentucky</td>\n",
              "      <td>42420</td>\n",
              "      <td>South</td>\n",
              "      <td>FUR-BO-10001798</td>\n",
              "      <td>Furniture</td>\n",
              "      <td>Bookcases</td>\n",
              "      <td>Bush Somerset Collection Bookcase</td>\n",
              "      <td>261.96</td>\n",
              "      <td>2</td>\n",
              "      <td>0.0</td>\n",
              "      <td>41.9136</td>\n",
              "    </tr>\n",
              "    <tr>\n",
              "      <th>1</th>\n",
              "      <td>2</td>\n",
              "      <td>CA-2016-152156</td>\n",
              "      <td>2016-11-08</td>\n",
              "      <td>2016-11-11</td>\n",
              "      <td>Second Class</td>\n",
              "      <td>CG-12520</td>\n",
              "      <td>Claire Gute</td>\n",
              "      <td>Consumer</td>\n",
              "      <td>United States</td>\n",
              "      <td>Henderson</td>\n",
              "      <td>Kentucky</td>\n",
              "      <td>42420</td>\n",
              "      <td>South</td>\n",
              "      <td>FUR-CH-10000454</td>\n",
              "      <td>Furniture</td>\n",
              "      <td>Chairs</td>\n",
              "      <td>Hon Deluxe Fabric Upholstered Stacking Chairs,...</td>\n",
              "      <td>731.94</td>\n",
              "      <td>3</td>\n",
              "      <td>0.0</td>\n",
              "      <td>219.5820</td>\n",
              "    </tr>\n",
              "    <tr>\n",
              "      <th>2</th>\n",
              "      <td>3</td>\n",
              "      <td>CA-2016-138688</td>\n",
              "      <td>2016-06-12</td>\n",
              "      <td>2016-06-16</td>\n",
              "      <td>Second Class</td>\n",
              "      <td>DV-13045</td>\n",
              "      <td>Darrin Van Huff</td>\n",
              "      <td>Corporate</td>\n",
              "      <td>United States</td>\n",
              "      <td>Los Angeles</td>\n",
              "      <td>California</td>\n",
              "      <td>90036</td>\n",
              "      <td>West</td>\n",
              "      <td>OFF-LA-10000240</td>\n",
              "      <td>Office Supplies</td>\n",
              "      <td>Labels</td>\n",
              "      <td>Self-Adhesive Address Labels for Typewriters b...</td>\n",
              "      <td>14.62</td>\n",
              "      <td>2</td>\n",
              "      <td>0.0</td>\n",
              "      <td>6.8714</td>\n",
              "    </tr>\n",
              "  </tbody>\n",
              "</table>\n",
              "</div>"
            ],
            "text/plain": [
              "   Row ID        Order ID Order Date  ... Quantity Discount    Profit\n",
              "0       1  CA-2016-152156 2016-11-08  ...        2      0.0   41.9136\n",
              "1       2  CA-2016-152156 2016-11-08  ...        3      0.0  219.5820\n",
              "2       3  CA-2016-138688 2016-06-12  ...        2      0.0    6.8714\n",
              "\n",
              "[3 rows x 21 columns]"
            ]
          },
          "metadata": {
            "tags": []
          },
          "execution_count": 46
        }
      ]
    },
    {
      "cell_type": "code",
      "metadata": {
        "id": "5jfAuEXUWQfl"
      },
      "source": [
        "#get year\n",
        "#get year\n",
        "df['year'] = df['Order Date'].dt.year #karena type data Order Date Sudah date time (datetime64[ns]) bisa menggunakan fungsi .dt"
      ],
      "execution_count": null,
      "outputs": []
    },
    {
      "cell_type": "markdown",
      "metadata": {
        "id": "wOGbPWoIV55X"
      },
      "source": [
        "Notes:\n",
        "- 1 row berisi 1 order-code dari detail pembelian seorang customer\n",
        "- Max order date 30 Desember 2017\n",
        "- Historical data 4 tahun, dari 2014 - 2017\n",
        "- Historical data 4 region (south, west, east and central)\n",
        "- Metric yang kami gunakan untuk melakukan segmentasi menggunakan performance sales"
      ]
    },
    {
      "cell_type": "code",
      "metadata": {
        "colab": {
          "base_uri": "https://localhost:8080/"
        },
        "id": "rSIVwsFJVd7U",
        "outputId": "41c36323-a0d6-42c7-ac62-37f3b411c3eb"
      },
      "source": [
        "df['Order Date'].max() #max date"
      ],
      "execution_count": null,
      "outputs": [
        {
          "output_type": "execute_result",
          "data": {
            "text/plain": [
              "Timestamp('2017-12-30 00:00:00')"
            ]
          },
          "metadata": {
            "tags": []
          },
          "execution_count": 47
        }
      ]
    },
    {
      "cell_type": "code",
      "metadata": {
        "colab": {
          "base_uri": "https://localhost:8080/"
        },
        "id": "W5Vk6QvmV3vw",
        "outputId": "bd231784-35b2-4ac2-c738-cbfeed3b8411"
      },
      "source": [
        "#persebaran order per Year\n",
        "df['year'].value_counts()"
      ],
      "execution_count": null,
      "outputs": [
        {
          "output_type": "execute_result",
          "data": {
            "text/plain": [
              "2017    3312\n",
              "2016    2587\n",
              "2015    2102\n",
              "2014    1993\n",
              "Name: year, dtype: int64"
            ]
          },
          "metadata": {
            "tags": []
          },
          "execution_count": 50
        }
      ]
    },
    {
      "cell_type": "code",
      "metadata": {
        "colab": {
          "base_uri": "https://localhost:8080/"
        },
        "id": "i5nGdWkaWTdd",
        "outputId": "95d1ce71-0292-49f3-b840-a2afb82d72a2"
      },
      "source": [
        "#persebaran order per Region\n",
        "df['Region'].value_counts()"
      ],
      "execution_count": null,
      "outputs": [
        {
          "output_type": "execute_result",
          "data": {
            "text/plain": [
              "West       3203\n",
              "East       2848\n",
              "Central    2323\n",
              "South      1620\n",
              "Name: Region, dtype: int64"
            ]
          },
          "metadata": {
            "tags": []
          },
          "execution_count": 51
        }
      ]
    },
    {
      "cell_type": "code",
      "metadata": {
        "colab": {
          "base_uri": "https://localhost:8080/",
          "height": 202
        },
        "id": "4vudJ4stWfP5",
        "outputId": "fac4495c-a1a4-4921-8ae1-6ebc2d6771c9"
      },
      "source": [
        "#Karena kita ingin melakukan segmentasi customer dan dataset masih dalam level order ID maka kita perlu\n",
        "#mengagregatnya terlebih dulu untuk mendapatkan performance sales pada level customer_id\n",
        "\n",
        "df_group_year = df.groupby(['year','Customer ID', 'Customer Name'])['Sales'].sum().reset_index()\n",
        "\n",
        "df_group_year.head()"
      ],
      "execution_count": null,
      "outputs": [
        {
          "output_type": "execute_result",
          "data": {
            "text/html": [
              "<div>\n",
              "<style scoped>\n",
              "    .dataframe tbody tr th:only-of-type {\n",
              "        vertical-align: middle;\n",
              "    }\n",
              "\n",
              "    .dataframe tbody tr th {\n",
              "        vertical-align: top;\n",
              "    }\n",
              "\n",
              "    .dataframe thead th {\n",
              "        text-align: right;\n",
              "    }\n",
              "</style>\n",
              "<table border=\"1\" class=\"dataframe\">\n",
              "  <thead>\n",
              "    <tr style=\"text-align: right;\">\n",
              "      <th></th>\n",
              "      <th>year</th>\n",
              "      <th>Customer ID</th>\n",
              "      <th>Customer Name</th>\n",
              "      <th>Sales</th>\n",
              "    </tr>\n",
              "  </thead>\n",
              "  <tbody>\n",
              "    <tr>\n",
              "      <th>0</th>\n",
              "      <td>2014</td>\n",
              "      <td>AA-10315</td>\n",
              "      <td>Alex Avila</td>\n",
              "      <td>756.048</td>\n",
              "    </tr>\n",
              "    <tr>\n",
              "      <th>1</th>\n",
              "      <td>2014</td>\n",
              "      <td>AA-10375</td>\n",
              "      <td>Allen Armold</td>\n",
              "      <td>50.792</td>\n",
              "    </tr>\n",
              "    <tr>\n",
              "      <th>2</th>\n",
              "      <td>2014</td>\n",
              "      <td>AA-10480</td>\n",
              "      <td>Andrew Allen</td>\n",
              "      <td>27.460</td>\n",
              "    </tr>\n",
              "    <tr>\n",
              "      <th>3</th>\n",
              "      <td>2014</td>\n",
              "      <td>AA-10645</td>\n",
              "      <td>Anna Andreadi</td>\n",
              "      <td>1434.330</td>\n",
              "    </tr>\n",
              "    <tr>\n",
              "      <th>4</th>\n",
              "      <td>2014</td>\n",
              "      <td>AB-10015</td>\n",
              "      <td>Aaron Bergman</td>\n",
              "      <td>322.216</td>\n",
              "    </tr>\n",
              "  </tbody>\n",
              "</table>\n",
              "</div>"
            ],
            "text/plain": [
              "   year Customer ID  Customer Name     Sales\n",
              "0  2014    AA-10315     Alex Avila   756.048\n",
              "1  2014    AA-10375   Allen Armold    50.792\n",
              "2  2014    AA-10480   Andrew Allen    27.460\n",
              "3  2014    AA-10645  Anna Andreadi  1434.330\n",
              "4  2014    AB-10015  Aaron Bergman   322.216"
            ]
          },
          "metadata": {
            "tags": []
          },
          "execution_count": 52
        }
      ]
    },
    {
      "cell_type": "code",
      "metadata": {
        "colab": {
          "base_uri": "https://localhost:8080/",
          "height": 171
        },
        "id": "a2-5hNl5WvEI",
        "outputId": "c3aba96e-003f-46f1-8eda-98ad9dd54068"
      },
      "source": [
        "#check distribution statistic descriptive sales setiap user per tahunnya\n",
        "\n",
        "df_group_year_desc = df_group_year.groupby(['year'])['Sales'].describe(percentiles = [.25, .5, .75, .9, .95]).reset_index()\n",
        "df_group_year_desc"
      ],
      "execution_count": null,
      "outputs": [
        {
          "output_type": "execute_result",
          "data": {
            "text/html": [
              "<div>\n",
              "<style scoped>\n",
              "    .dataframe tbody tr th:only-of-type {\n",
              "        vertical-align: middle;\n",
              "    }\n",
              "\n",
              "    .dataframe tbody tr th {\n",
              "        vertical-align: top;\n",
              "    }\n",
              "\n",
              "    .dataframe thead th {\n",
              "        text-align: right;\n",
              "    }\n",
              "</style>\n",
              "<table border=\"1\" class=\"dataframe\">\n",
              "  <thead>\n",
              "    <tr style=\"text-align: right;\">\n",
              "      <th></th>\n",
              "      <th>year</th>\n",
              "      <th>count</th>\n",
              "      <th>mean</th>\n",
              "      <th>std</th>\n",
              "      <th>min</th>\n",
              "      <th>25%</th>\n",
              "      <th>50%</th>\n",
              "      <th>75%</th>\n",
              "      <th>90%</th>\n",
              "      <th>95%</th>\n",
              "      <th>max</th>\n",
              "    </tr>\n",
              "  </thead>\n",
              "  <tbody>\n",
              "    <tr>\n",
              "      <th>0</th>\n",
              "      <td>2014</td>\n",
              "      <td>595.0</td>\n",
              "      <td>813.861341</td>\n",
              "      <td>1558.339428</td>\n",
              "      <td>1.869</td>\n",
              "      <td>86.448</td>\n",
              "      <td>321.552</td>\n",
              "      <td>951.7495</td>\n",
              "      <td>2016.9944</td>\n",
              "      <td>2764.38828</td>\n",
              "      <td>23661.228</td>\n",
              "    </tr>\n",
              "    <tr>\n",
              "      <th>1</th>\n",
              "      <td>2015</td>\n",
              "      <td>573.0</td>\n",
              "      <td>821.173663</td>\n",
              "      <td>1115.847785</td>\n",
              "      <td>1.720</td>\n",
              "      <td>120.564</td>\n",
              "      <td>389.434</td>\n",
              "      <td>1065.9200</td>\n",
              "      <td>2210.6500</td>\n",
              "      <td>2900.66280</td>\n",
              "      <td>9022.324</td>\n",
              "    </tr>\n",
              "    <tr>\n",
              "      <th>2</th>\n",
              "      <td>2016</td>\n",
              "      <td>638.0</td>\n",
              "      <td>954.867708</td>\n",
              "      <td>1524.135920</td>\n",
              "      <td>1.964</td>\n",
              "      <td>107.271</td>\n",
              "      <td>495.729</td>\n",
              "      <td>1210.8170</td>\n",
              "      <td>2090.1135</td>\n",
              "      <td>3216.82335</td>\n",
              "      <td>18344.052</td>\n",
              "    </tr>\n",
              "    <tr>\n",
              "      <th>3</th>\n",
              "      <td>2017</td>\n",
              "      <td>693.0</td>\n",
              "      <td>1058.030671</td>\n",
              "      <td>1463.910713</td>\n",
              "      <td>1.188</td>\n",
              "      <td>204.405</td>\n",
              "      <td>604.910</td>\n",
              "      <td>1334.6416</td>\n",
              "      <td>2384.6104</td>\n",
              "      <td>3755.71360</td>\n",
              "      <td>14203.278</td>\n",
              "    </tr>\n",
              "  </tbody>\n",
              "</table>\n",
              "</div>"
            ],
            "text/plain": [
              "   year  count         mean  ...        90%         95%        max\n",
              "0  2014  595.0   813.861341  ...  2016.9944  2764.38828  23661.228\n",
              "1  2015  573.0   821.173663  ...  2210.6500  2900.66280   9022.324\n",
              "2  2016  638.0   954.867708  ...  2090.1135  3216.82335  18344.052\n",
              "3  2017  693.0  1058.030671  ...  2384.6104  3755.71360  14203.278\n",
              "\n",
              "[4 rows x 11 columns]"
            ]
          },
          "metadata": {
            "tags": []
          },
          "execution_count": 53
        }
      ]
    },
    {
      "cell_type": "markdown",
      "metadata": {
        "id": "KXWnQatJXICR"
      },
      "source": [
        "Dari hasil statistic descriptive di atas kita mengatahui bahwa nilai median (p50) setiap tahun nya bernilai <b>fluktuatif</b>. Sehingga dari hasil ini kami memutuskan untuk membuat definisi segmentasi performance pembelian akan berbeda setiap tahunnya menggunakan pendekatan statistic descriptive pada performance sales setiap tahunnya. <br>\n",
        "\n",
        "Selanjutnya, untuk membagi threshold setiap segment, kami menggunakan acuan percentile.\n",
        "1. low --> total sales per tahun < p50\n",
        "2. mid --> total sales per tahun >= p50 and <= 75\n",
        "3. high --> total sales per tahun > p75"
      ]
    },
    {
      "cell_type": "code",
      "metadata": {
        "colab": {
          "base_uri": "https://localhost:8080/",
          "height": 202
        },
        "id": "214wVq9sXGud",
        "outputId": "80935349-d466-452b-fbbe-82556a3df80e"
      },
      "source": [
        "df_group_year = df_group_year.merge(df_group_year_desc[['year', 'mean', '25%', '50%', '75%']], on='year', how='inner')\n",
        "df_group_year.head()"
      ],
      "execution_count": null,
      "outputs": [
        {
          "output_type": "execute_result",
          "data": {
            "text/html": [
              "<div>\n",
              "<style scoped>\n",
              "    .dataframe tbody tr th:only-of-type {\n",
              "        vertical-align: middle;\n",
              "    }\n",
              "\n",
              "    .dataframe tbody tr th {\n",
              "        vertical-align: top;\n",
              "    }\n",
              "\n",
              "    .dataframe thead th {\n",
              "        text-align: right;\n",
              "    }\n",
              "</style>\n",
              "<table border=\"1\" class=\"dataframe\">\n",
              "  <thead>\n",
              "    <tr style=\"text-align: right;\">\n",
              "      <th></th>\n",
              "      <th>year</th>\n",
              "      <th>Customer ID</th>\n",
              "      <th>Customer Name</th>\n",
              "      <th>Sales</th>\n",
              "      <th>mean</th>\n",
              "      <th>25%</th>\n",
              "      <th>50%</th>\n",
              "      <th>75%</th>\n",
              "    </tr>\n",
              "  </thead>\n",
              "  <tbody>\n",
              "    <tr>\n",
              "      <th>0</th>\n",
              "      <td>2014</td>\n",
              "      <td>AA-10315</td>\n",
              "      <td>Alex Avila</td>\n",
              "      <td>756.048</td>\n",
              "      <td>813.861341</td>\n",
              "      <td>86.448</td>\n",
              "      <td>321.552</td>\n",
              "      <td>951.7495</td>\n",
              "    </tr>\n",
              "    <tr>\n",
              "      <th>1</th>\n",
              "      <td>2014</td>\n",
              "      <td>AA-10375</td>\n",
              "      <td>Allen Armold</td>\n",
              "      <td>50.792</td>\n",
              "      <td>813.861341</td>\n",
              "      <td>86.448</td>\n",
              "      <td>321.552</td>\n",
              "      <td>951.7495</td>\n",
              "    </tr>\n",
              "    <tr>\n",
              "      <th>2</th>\n",
              "      <td>2014</td>\n",
              "      <td>AA-10480</td>\n",
              "      <td>Andrew Allen</td>\n",
              "      <td>27.460</td>\n",
              "      <td>813.861341</td>\n",
              "      <td>86.448</td>\n",
              "      <td>321.552</td>\n",
              "      <td>951.7495</td>\n",
              "    </tr>\n",
              "    <tr>\n",
              "      <th>3</th>\n",
              "      <td>2014</td>\n",
              "      <td>AA-10645</td>\n",
              "      <td>Anna Andreadi</td>\n",
              "      <td>1434.330</td>\n",
              "      <td>813.861341</td>\n",
              "      <td>86.448</td>\n",
              "      <td>321.552</td>\n",
              "      <td>951.7495</td>\n",
              "    </tr>\n",
              "    <tr>\n",
              "      <th>4</th>\n",
              "      <td>2014</td>\n",
              "      <td>AB-10015</td>\n",
              "      <td>Aaron Bergman</td>\n",
              "      <td>322.216</td>\n",
              "      <td>813.861341</td>\n",
              "      <td>86.448</td>\n",
              "      <td>321.552</td>\n",
              "      <td>951.7495</td>\n",
              "    </tr>\n",
              "  </tbody>\n",
              "</table>\n",
              "</div>"
            ],
            "text/plain": [
              "   year Customer ID  Customer Name  ...     25%      50%       75%\n",
              "0  2014    AA-10315     Alex Avila  ...  86.448  321.552  951.7495\n",
              "1  2014    AA-10375   Allen Armold  ...  86.448  321.552  951.7495\n",
              "2  2014    AA-10480   Andrew Allen  ...  86.448  321.552  951.7495\n",
              "3  2014    AA-10645  Anna Andreadi  ...  86.448  321.552  951.7495\n",
              "4  2014    AB-10015  Aaron Bergman  ...  86.448  321.552  951.7495\n",
              "\n",
              "[5 rows x 8 columns]"
            ]
          },
          "metadata": {
            "tags": []
          },
          "execution_count": 54
        }
      ]
    },
    {
      "cell_type": "code",
      "metadata": {
        "id": "JoG__6IWXo_s"
      },
      "source": [
        "#function segmentation user besed on total sales yearly\n",
        "def segment(x):\n",
        "    if x['Sales'] < x['50%']:\n",
        "        segment = 'Low'\n",
        "    elif x['Sales'] <= x['75%'] and x['Sales'] >= x['50%']:\n",
        "        segment = 'Mid'\n",
        "    else:\n",
        "        segment = 'High'\n",
        "    return segmentb"
      ],
      "execution_count": null,
      "outputs": []
    },
    {
      "cell_type": "code",
      "metadata": {
        "colab": {
          "base_uri": "https://localhost:8080/",
          "height": 202
        },
        "id": "DESyKI8ZXt4R",
        "outputId": "a9d04d0f-8f54-4992-80ee-22ed8983933e"
      },
      "source": [
        "df_group_year['segment'] = df_group_year.apply(lambda x: segment(x), axis=1)\n",
        "df_group_year.head()"
      ],
      "execution_count": null,
      "outputs": [
        {
          "output_type": "execute_result",
          "data": {
            "text/html": [
              "<div>\n",
              "<style scoped>\n",
              "    .dataframe tbody tr th:only-of-type {\n",
              "        vertical-align: middle;\n",
              "    }\n",
              "\n",
              "    .dataframe tbody tr th {\n",
              "        vertical-align: top;\n",
              "    }\n",
              "\n",
              "    .dataframe thead th {\n",
              "        text-align: right;\n",
              "    }\n",
              "</style>\n",
              "<table border=\"1\" class=\"dataframe\">\n",
              "  <thead>\n",
              "    <tr style=\"text-align: right;\">\n",
              "      <th></th>\n",
              "      <th>year</th>\n",
              "      <th>Customer ID</th>\n",
              "      <th>Customer Name</th>\n",
              "      <th>Sales</th>\n",
              "      <th>mean</th>\n",
              "      <th>25%</th>\n",
              "      <th>50%</th>\n",
              "      <th>75%</th>\n",
              "      <th>segment</th>\n",
              "    </tr>\n",
              "  </thead>\n",
              "  <tbody>\n",
              "    <tr>\n",
              "      <th>0</th>\n",
              "      <td>2014</td>\n",
              "      <td>AA-10315</td>\n",
              "      <td>Alex Avila</td>\n",
              "      <td>756.048</td>\n",
              "      <td>813.861341</td>\n",
              "      <td>86.448</td>\n",
              "      <td>321.552</td>\n",
              "      <td>951.7495</td>\n",
              "      <td>Mid</td>\n",
              "    </tr>\n",
              "    <tr>\n",
              "      <th>1</th>\n",
              "      <td>2014</td>\n",
              "      <td>AA-10375</td>\n",
              "      <td>Allen Armold</td>\n",
              "      <td>50.792</td>\n",
              "      <td>813.861341</td>\n",
              "      <td>86.448</td>\n",
              "      <td>321.552</td>\n",
              "      <td>951.7495</td>\n",
              "      <td>Low</td>\n",
              "    </tr>\n",
              "    <tr>\n",
              "      <th>2</th>\n",
              "      <td>2014</td>\n",
              "      <td>AA-10480</td>\n",
              "      <td>Andrew Allen</td>\n",
              "      <td>27.460</td>\n",
              "      <td>813.861341</td>\n",
              "      <td>86.448</td>\n",
              "      <td>321.552</td>\n",
              "      <td>951.7495</td>\n",
              "      <td>Low</td>\n",
              "    </tr>\n",
              "    <tr>\n",
              "      <th>3</th>\n",
              "      <td>2014</td>\n",
              "      <td>AA-10645</td>\n",
              "      <td>Anna Andreadi</td>\n",
              "      <td>1434.330</td>\n",
              "      <td>813.861341</td>\n",
              "      <td>86.448</td>\n",
              "      <td>321.552</td>\n",
              "      <td>951.7495</td>\n",
              "      <td>High</td>\n",
              "    </tr>\n",
              "    <tr>\n",
              "      <th>4</th>\n",
              "      <td>2014</td>\n",
              "      <td>AB-10015</td>\n",
              "      <td>Aaron Bergman</td>\n",
              "      <td>322.216</td>\n",
              "      <td>813.861341</td>\n",
              "      <td>86.448</td>\n",
              "      <td>321.552</td>\n",
              "      <td>951.7495</td>\n",
              "      <td>Mid</td>\n",
              "    </tr>\n",
              "  </tbody>\n",
              "</table>\n",
              "</div>"
            ],
            "text/plain": [
              "   year Customer ID  Customer Name     Sales  ...     25%      50%       75%  segment\n",
              "0  2014    AA-10315     Alex Avila   756.048  ...  86.448  321.552  951.7495      Mid\n",
              "1  2014    AA-10375   Allen Armold    50.792  ...  86.448  321.552  951.7495      Low\n",
              "2  2014    AA-10480   Andrew Allen    27.460  ...  86.448  321.552  951.7495      Low\n",
              "3  2014    AA-10645  Anna Andreadi  1434.330  ...  86.448  321.552  951.7495     High\n",
              "4  2014    AB-10015  Aaron Bergman   322.216  ...  86.448  321.552  951.7495      Mid\n",
              "\n",
              "[5 rows x 9 columns]"
            ]
          },
          "metadata": {
            "tags": []
          },
          "execution_count": 56
        }
      ]
    },
    {
      "cell_type": "code",
      "metadata": {
        "colab": {
          "base_uri": "https://localhost:8080/"
        },
        "id": "mus_DLATX25d",
        "outputId": "ccb44b94-e364-41f9-8c10-d7946a633cd1"
      },
      "source": [
        "#filter tahun 2017 dan count unique based on customer id\n",
        "df_group_year[(df_group_year.year == 2017)].groupby(['segment'])['Customer ID'].nunique()"
      ],
      "execution_count": null,
      "outputs": [
        {
          "output_type": "execute_result",
          "data": {
            "text/plain": [
              "segment\n",
              "High    173\n",
              "Low     346\n",
              "Mid     174\n",
              "Name: Customer ID, dtype: int64"
            ]
          },
          "metadata": {
            "tags": []
          },
          "execution_count": 57
        }
      ]
    },
    {
      "cell_type": "markdown",
      "metadata": {
        "id": "A6OxIxNNYHR9"
      },
      "source": [
        "*Pada* tahun 2017, ~25% atau sekitar 173 dari total customer kita masuk dalam ketegori High"
      ]
    },
    {
      "cell_type": "markdown",
      "metadata": {
        "id": "ZBNcUKByMAZ-"
      },
      "source": [
        "**Tetap Semangat Belajat Python! Practice Make Perfect!**"
      ]
    }
  ]
}